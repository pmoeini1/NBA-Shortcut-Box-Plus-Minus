{
 "metadata": {
  "language_info": {
   "codemirror_mode": {
    "name": "ipython",
    "version": 3
   },
   "file_extension": ".py",
   "mimetype": "text/x-python",
   "name": "python",
   "nbconvert_exporter": "python",
   "pygments_lexer": "ipython3",
   "version": "3.8.5"
  },
  "orig_nbformat": 2,
  "kernelspec": {
   "name": "python385jvsc74a57bd02db524e06e9f5f4ffedc911c917cb75e12dbc923643829bf417064a77eb14d37",
   "display_name": "Python 3.8.5 64-bit"
  },
  "metadata": {
   "interpreter": {
    "hash": "2db524e06e9f5f4ffedc911c917cb75e12dbc923643829bf417064a77eb14d37"
   }
  }
 },
 "nbformat": 4,
 "nbformat_minor": 2,
 "cells": [
  {
   "cell_type": "code",
   "execution_count": 2,
   "metadata": {},
   "outputs": [],
   "source": [
    "import numpy as np\n",
    "import matplotlib.pyplot as plt\n",
    "import os"
   ]
  },
  {
   "cell_type": "code",
   "execution_count": 17,
   "metadata": {},
   "outputs": [],
   "source": [
    "data = np.loadtxt(\"OBPM.csv\", skiprows=1, delimiter=\",\", usecols=(2,3,4,5,6,7,8,9,10,11))\n",
    "\n",
    "labels = np.loadtxt(\"OBPM.csv\", skiprows=1, dtype=str, usecols=0)"
   ]
  },
  {
   "cell_type": "code",
   "execution_count": 5,
   "metadata": {},
   "outputs": [],
   "source": [
    "i=0\n",
    "while (i < data.shape[0]):\n",
    "    if (data[i,9]<0):\n",
    "        data = np.delete(data, i, axis=0)\n",
    "    i+=1"
   ]
  },
  {
   "cell_type": "code",
   "execution_count": 15,
   "metadata": {},
   "outputs": [
    {
     "output_type": "execute_result",
     "data": {
      "text/plain": [
       "array([-1.06936268,  0.15320714,  0.53227259,  2.27994646, -0.08241818,\n",
       "       -0.01768586,  0.01065959,  0.04582169, -0.04188633])"
      ]
     },
     "metadata": {},
     "execution_count": 15
    }
   ],
   "source": [
    "x = data[:,0:9]\n",
    "y = data[:,9]\n",
    "\n",
    "theta = np.linalg.inv(x.transpose() @ x) @ x.transpose() @ y\n",
    "theta"
   ]
  },
  {
   "cell_type": "code",
   "execution_count": 19,
   "metadata": {},
   "outputs": [],
   "source": [
    "teammate_parameter = np.sum(theta[4:])/5\n",
    "\n",
    "for i in range(3,theta.shape[0]):\n",
    "    if i==3:\n",
    "        theta[i] -= teammate_parameter*5\n",
    "    else:\n",
    "        theta[i] = teammate_parameter"
   ]
  },
  {
   "cell_type": "code",
   "execution_count": 20,
   "metadata": {},
   "outputs": [],
   "source": [
    "data = np.loadtxt(\"OBPM.csv\", skiprows=1, delimiter=\",\", usecols=(2,3,4,5,6,7,8,9,10,11))\n",
    "x = data[:,0:9]\n",
    "y = data[:,9]"
   ]
  },
  {
   "cell_type": "code",
   "execution_count": 21,
   "metadata": {},
   "outputs": [
    {
     "output_type": "execute_result",
     "data": {
      "text/plain": [
       "{'Nikola': 12.05375814439736,\n",
       " 'James': 13.40147864159057,\n",
       " 'Giannis': 10.3184409510315,\n",
       " 'LeBron': 12.833410522245915,\n",
       " 'Kawhi': 11.353997117284033,\n",
       " 'Luka': 13.380860320285171,\n",
       " 'Kyrie': 11.203984268088014,\n",
       " 'Stephen': 12.965181203815277,\n",
       " 'Joel': 6.705436682113174,\n",
       " 'Paul': 9.462643034909762,\n",
       " 'Chris': 12.229986055830624,\n",
       " 'Jimmy': 10.357676715952262,\n",
       " 'Khris': 8.122857262654742,\n",
       " 'Damian': 13.127451862303516,\n",
       " 'Donovan': 9.591185708248105,\n",
       " 'Rudy': 2.8517533005562323,\n",
       " 'Ben': 8.217427005035992,\n",
       " 'Zion': 7.206444592382134,\n",
       " 'Bam': 7.335130431279087,\n",
       " 'Mike': 9.638002626698423,\n",
       " 'Trae': 13.477969103048988,\n",
       " 'Jamal': 7.299523774815037,\n",
       " 'Jayson': 8.78227785782699,\n",
       " 'Devin': 7.9831300543938,\n",
       " 'Karl-Anthony': 10.183635510063253,\n",
       " 'Bradley': 11.683395525986327,\n",
       " 'Draymond': 7.974983313232206,\n",
       " 'Jrue': 9.524617980389262}"
      ]
     },
     "metadata": {},
     "execution_count": 21
    }
   ],
   "source": [
    "predictions = {}\n",
    "\n",
    "for i in range(0,data.shape[0]):\n",
    "    pred = x[i]@theta\n",
    "    predictions.update({labels[i] : pred})\n",
    "\n",
    "predictions"
   ]
  },
  {
   "cell_type": "code",
   "execution_count": null,
   "metadata": {},
   "outputs": [],
   "source": []
  }
 ]
}