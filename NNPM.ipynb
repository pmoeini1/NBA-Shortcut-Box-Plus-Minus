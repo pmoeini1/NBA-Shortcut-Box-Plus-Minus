{
 "metadata": {
  "language_info": {
   "codemirror_mode": {
    "name": "ipython",
    "version": 3
   },
   "file_extension": ".py",
   "mimetype": "text/x-python",
   "name": "python",
   "nbconvert_exporter": "python",
   "pygments_lexer": "ipython3",
   "version": "3.8.5"
  },
  "orig_nbformat": 2,
  "kernelspec": {
   "name": "python385jvsc74a57bd02db524e06e9f5f4ffedc911c917cb75e12dbc923643829bf417064a77eb14d37",
   "display_name": "Python 3.8.5 64-bit"
  },
  "metadata": {
   "interpreter": {
    "hash": "2db524e06e9f5f4ffedc911c917cb75e12dbc923643829bf417064a77eb14d37"
   }
  }
 },
 "nbformat": 4,
 "nbformat_minor": 2,
 "cells": [
  {
   "cell_type": "code",
   "execution_count": 206,
   "metadata": {},
   "outputs": [],
   "source": [
    "import numpy as np\n",
    "import pandas as pd\n",
    "import tensorflow as tf\n",
    "import urllib.request as request\n",
    "import matplotlib.pyplot as plt"
   ]
  },
  {
   "source": [
    "load data from csv"
   ],
   "cell_type": "markdown",
   "metadata": {}
  },
  {
   "cell_type": "code",
   "execution_count": 207,
   "metadata": {},
   "outputs": [],
   "source": [
    "data = np.loadtxt(\"OBPM.csv\", skiprows=1, delimiter=\",\", usecols=(2,3,4,5,6,7,8,9,10,11))\n",
    "labels = np.loadtxt(\"OBPM.csv\", skiprows=1, dtype=str, usecols=0)\n"
   ]
  },
  {
   "source": [
    "remove players with negative offensive on/off (all test data is from star players, any negatives are likely a result of noisy data)"
   ],
   "cell_type": "markdown",
   "metadata": {}
  },
  {
   "cell_type": "code",
   "execution_count": 208,
   "metadata": {},
   "outputs": [],
   "source": [
    "i=0\n",
    "while (i < data.shape[0]):\n",
    "    if (data[i,9]<0):\n",
    "        data = np.delete(data, i, axis=0)\n",
    "    i+=1"
   ]
  },
  {
   "cell_type": "code",
   "execution_count": 209,
   "metadata": {},
   "outputs": [],
   "source": [
    "x = data[:data.shape[0]-2,0:9]\n",
    "y = data[:data.shape[0]-2,9]"
   ]
  },
  {
   "source": [
    "create neural network"
   ],
   "cell_type": "markdown",
   "metadata": {}
  },
  {
   "cell_type": "code",
   "execution_count": 210,
   "metadata": {},
   "outputs": [],
   "source": [
    "from keras.models import Sequential\n",
    "from keras.layers import Dense\n",
    "model = Sequential()\n",
    "model.add(Dense(12, input_dim=9, activation='relu'))\n",
    "model.add(Dense(9, activation='relu'))\n",
    "model.add(Dense(1))\n",
    "model.compile(optimizer='adam', loss='mse')"
   ]
  },
  {
   "cell_type": "code",
   "execution_count": 211,
   "metadata": {
    "tags": []
   },
   "outputs": [
    {
     "output_type": "execute_result",
     "data": {
      "text/plain": [
       "<tensorflow.python.keras.callbacks.History at 0x280819f2b50>"
      ]
     },
     "metadata": {},
     "execution_count": 211
    }
   ],
   "source": [
    "model.fit(x, y, epochs=1000, batch_size=5, verbose=0)"
   ]
  },
  {
   "source": [
    "test neural network and output results"
   ],
   "cell_type": "markdown",
   "metadata": {}
  },
  {
   "cell_type": "code",
   "execution_count": 212,
   "metadata": {},
   "outputs": [
    {
     "output_type": "stream",
     "name": "stdout",
     "text": [
      "WARNING:tensorflow:11 out of the last 11 calls to <function Model.make_predict_function.<locals>.predict_function at 0x0000028081A893A0> triggered tf.function retracing. Tracing is expensive and the excessive number of tracings could be due to (1) creating @tf.function repeatedly in a loop, (2) passing tensors with different shapes, (3) passing Python objects instead of tensors. For (1), please define your @tf.function outside of the loop. For (2), @tf.function has experimental_relax_shapes=True option that relaxes argument shapes that can avoid unnecessary retracing. For (3), please refer to https://www.tensorflow.org/guide/function#controlling_retracing and https://www.tensorflow.org/api_docs/python/tf/function for  more details.\n"
     ]
    },
    {
     "output_type": "execute_result",
     "data": {
      "text/plain": [
       "[{'Nikola': 13.700565},\n",
       " {'James': 5.474477},\n",
       " {'Giannis': 2.6069505},\n",
       " {'LeBron': 6.806019},\n",
       " {'Kawhi': 10.205445},\n",
       " {'Luka': 6.818101},\n",
       " {'Kyrie': 5.207971},\n",
       " {'Stephen': 15.22536},\n",
       " {'Joel': 10.4885},\n",
       " {'Paul': 1.0150771},\n",
       " {'Chris': 1.6589142},\n",
       " {'Jimmy': 3.8944402},\n",
       " {'Khris': 0.81190497},\n",
       " {'Damian': 9.912162},\n",
       " {'Donovan': 5.1766224},\n",
       " {'Rudy': 1.784463},\n",
       " {'Ben': 3.310456},\n",
       " {'Zion': 5.4909277},\n",
       " {'Bam': 0.59977347},\n",
       " {'Mike': 1.6163434},\n",
       " {'Trae': 12.7043085},\n",
       " {'Jamal': 4.9966335},\n",
       " {'Jayson': 8.011498},\n",
       " {'Devin': 7.2136426},\n",
       " {'Karl-Anthony': 11.710916},\n",
       " {'Bradley': 10.732551},\n",
       " {'Draymond': -4.400672},\n",
       " {'Jrue': 1.2221599}]"
      ]
     },
     "metadata": {},
     "execution_count": 212
    }
   ],
   "source": [
    "data = np.loadtxt(\"OBPM.csv\", skiprows=1, delimiter=\",\", usecols=(2,3,4,5,6,7,8,9,10,11))\n",
    "x = data[:,0:9]\n",
    "labels.shape\n",
    "x.shape\n",
    "results = model.predict(x)\n",
    "output = []\n",
    "for i in range(0,results.shape[0]):\n",
    "    output.append({labels[i] : results[i][0]})\n",
    "output"
   ]
  },
  {
   "source": [
    "write results to .csv file"
   ],
   "cell_type": "markdown",
   "metadata": {}
  },
  {
   "cell_type": "code",
   "execution_count": 213,
   "metadata": {},
   "outputs": [],
   "source": [
    "import csv\n",
    "#with open('NNBPMOutput.csv', 'w', newline='') as file:\n",
    "#    writer = csv.writer(file)\n",
    "#    for i in range(0,len(output)):\n",
    "#        writer.writerow([labels[i], results[i][0]])"
   ]
  }
 ]
}