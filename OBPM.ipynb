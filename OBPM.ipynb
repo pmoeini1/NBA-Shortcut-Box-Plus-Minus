{
 "metadata": {
  "language_info": {
   "codemirror_mode": {
    "name": "ipython",
    "version": 3
   },
   "file_extension": ".py",
   "mimetype": "text/x-python",
   "name": "python",
   "nbconvert_exporter": "python",
   "pygments_lexer": "ipython3",
   "version": "3.8.5"
  },
  "orig_nbformat": 2,
  "kernelspec": {
   "name": "python385jvsc74a57bd02db524e06e9f5f4ffedc911c917cb75e12dbc923643829bf417064a77eb14d37",
   "display_name": "Python 3.8.5 64-bit"
  },
  "metadata": {
   "interpreter": {
    "hash": "2db524e06e9f5f4ffedc911c917cb75e12dbc923643829bf417064a77eb14d37"
   }
  }
 },
 "nbformat": 4,
 "nbformat_minor": 2,
 "cells": [
  {
   "cell_type": "code",
   "execution_count": 14,
   "metadata": {},
   "outputs": [],
   "source": [
    "import numpy as np"
   ]
  },
  {
   "source": [
    "using (estimated) scoring turnovers per 100, points per 100, assists per 100, points per true shooting attempt, \n",
    "and 5 types of lineup context stats from bball-index as features, and offensive on/off as y value"
   ],
   "cell_type": "markdown",
   "metadata": {}
  },
  {
   "cell_type": "code",
   "execution_count": 15,
   "metadata": {},
   "outputs": [],
   "source": [
    "data = np.loadtxt(\"OBPM.csv\", skiprows=1, delimiter=\",\", usecols=(2,3,4,5,6,7,8,9,10,11))\n",
    "labels = np.loadtxt(\"OBPM.csv\", skiprows=1, dtype=str, usecols=0)"
   ]
  },
  {
   "source": [
    "remove players with negative offensive on/off (all test data is from star players, any negatives are likely a result of noisy data)"
   ],
   "cell_type": "markdown",
   "metadata": {}
  },
  {
   "source": [
    "i=0\n",
    "while (i < data.shape[0]):\n",
    "    if (data[i,9]<0):\n",
    "        data = np.delete(data, i, axis=0)\n",
    "    i+=1"
   ],
   "cell_type": "code",
   "metadata": {},
   "execution_count": 16,
   "outputs": []
  },
  {
   "source": [
    "set up x and y matrices, and generate parameter matrix using normal equation"
   ],
   "cell_type": "markdown",
   "metadata": {}
  },
  {
   "cell_type": "code",
   "execution_count": 17,
   "metadata": {},
   "outputs": [],
   "source": [
    "# \n",
    "x = data[:,0:9]\n",
    "y = data[:,9]\n",
    "\n",
    "theta = np.linalg.inv(x.transpose() @ x) @ x.transpose() @ y"
   ]
  },
  {
   "source": [
    "set all lineup context stats to have equal weighting\n",
    "reasoning for this is that all current weightings are ~0, so I assume the differences are a result of noisy data"
   ],
   "cell_type": "markdown",
   "metadata": {}
  },
  {
   "cell_type": "code",
   "execution_count": 18,
   "metadata": {},
   "outputs": [],
   "source": [
    "teammate_parameter = np.sum(theta[4:])/5\n",
    "\n",
    "for i in range(4,theta.shape[0]):\n",
    "    theta[i] = teammate_parameter"
   ]
  },
  {
   "source": [
    "bring back complete dataset, and set up x and y matrices"
   ],
   "cell_type": "markdown",
   "metadata": {}
  },
  {
   "cell_type": "code",
   "execution_count": 19,
   "metadata": {},
   "outputs": [],
   "source": [
    "data = np.loadtxt(\"OBPM.csv\", skiprows=1, delimiter=\",\", usecols=(2,3,4,5,6,7,8,9,10,11))\n",
    "x = data[:,0:9]\n",
    "y = data[:,9]"
   ]
  },
  {
   "source": [
    "predict box-plus-minus of players in dataset"
   ],
   "cell_type": "markdown",
   "metadata": {}
  },
  {
   "cell_type": "code",
   "execution_count": 20,
   "metadata": {},
   "outputs": [
    {
     "output_type": "execute_result",
     "data": {
      "text/plain": [
       "{'Nikola': 11.72078578786736,\n",
       " 'James': 13.082615283218619,\n",
       " 'Giannis': 9.993164411678617,\n",
       " 'LeBron': 12.520960344854897,\n",
       " 'Kawhi': 11.033081540998184,\n",
       " 'Luka': 13.076875541788983,\n",
       " 'Kyrie': 10.8874296548692,\n",
       " 'Stephen': 12.621691230476547,\n",
       " 'Joel': 6.380160142760291,\n",
       " 'Paul': 9.154297293346543,\n",
       " 'Chris': 11.920614205310454,\n",
       " 'Jimmy': 10.044456956843533,\n",
       " 'Khris': 7.81835942968008,\n",
       " 'Damian': 12.805510177060718,\n",
       " 'Donovan': 9.298488128278358,\n",
       " 'Rudy': 2.501850146236571,\n",
       " 'Ben': 7.919342353042263,\n",
       " 'Zion': 6.871933072416708,\n",
       " 'Bam': 7.013701800514765,\n",
       " 'Mike': 9.33453090268071,\n",
       " 'Trae': 13.175523487988224,\n",
       " 'Jamal': 6.993999832883427,\n",
       " 'Jayson': 8.484706260311736,\n",
       " 'Devin': 7.680940966572273,\n",
       " 'Karl-Anthony': 9.868363533040624,\n",
       " 'Bradley': 11.37479325718387,\n",
       " 'Draymond': 7.6999861127698335,\n",
       " 'Jrue': 9.217554875022227}"
      ]
     },
     "metadata": {},
     "execution_count": 20
    }
   ],
   "source": [
    "predictions = {}\n",
    "\n",
    "for i in range(0,data.shape[0]):\n",
    "    pred = x[i]@theta\n",
    "    predictions.update({labels[i] : pred})\n",
    "\n",
    "predictions"
   ]
  },
  {
   "cell_type": "code",
   "execution_count": null,
   "metadata": {},
   "outputs": [],
   "source": []
  }
 ]
}