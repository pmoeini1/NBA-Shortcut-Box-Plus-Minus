{
 "metadata": {
  "language_info": {
   "codemirror_mode": {
    "name": "ipython",
    "version": 3
   },
   "file_extension": ".py",
   "mimetype": "text/x-python",
   "name": "python",
   "nbconvert_exporter": "python",
   "pygments_lexer": "ipython3",
   "version": "3.8.5"
  },
  "orig_nbformat": 2,
  "kernelspec": {
   "name": "python385jvsc74a57bd02db524e06e9f5f4ffedc911c917cb75e12dbc923643829bf417064a77eb14d37",
   "display_name": "Python 3.8.5 64-bit"
  },
  "metadata": {
   "interpreter": {
    "hash": "2db524e06e9f5f4ffedc911c917cb75e12dbc923643829bf417064a77eb14d37"
   }
  }
 },
 "nbformat": 4,
 "nbformat_minor": 2,
 "cells": [
  {
   "cell_type": "code",
   "execution_count": 17,
   "metadata": {},
   "outputs": [],
   "source": [
    "import numpy as np\n",
    "import pandas as pd\n",
    "import tensorflow as tf\n",
    "import urllib.request as request\n",
    "import matplotlib.pyplot as plt"
   ]
  },
  {
   "source": [
    "load data from csv"
   ],
   "cell_type": "markdown",
   "metadata": {}
  },
  {
   "cell_type": "code",
   "execution_count": 18,
   "metadata": {},
   "outputs": [],
   "source": [
    "data = np.loadtxt(\"OBPM.csv\", skiprows=1, delimiter=\",\", usecols=(2,3,4,5,6,7,8,9,10,11))\n",
    "labels = np.loadtxt(\"OBPM.csv\", skiprows=1, dtype=str, usecols=0)\n"
   ]
  },
  {
   "source": [
    "remove players with negative offensive on/off (all test data is from star players, any negatives are likely a result of noisy data)"
   ],
   "cell_type": "markdown",
   "metadata": {}
  },
  {
   "cell_type": "code",
   "execution_count": 19,
   "metadata": {},
   "outputs": [],
   "source": [
    "i=0\n",
    "while (i < data.shape[0]):\n",
    "    if (data[i,9]<0):\n",
    "        data = np.delete(data, i, axis=0)\n",
    "    i+=1"
   ]
  },
  {
   "cell_type": "code",
   "execution_count": 20,
   "metadata": {},
   "outputs": [],
   "source": [
    "x = data[:data.shape[0]-2,0:9]\n",
    "y = data[:data.shape[0]-2,9]"
   ]
  },
  {
   "source": [
    "create neural network"
   ],
   "cell_type": "markdown",
   "metadata": {}
  },
  {
   "cell_type": "code",
   "execution_count": 21,
   "metadata": {},
   "outputs": [],
   "source": [
    "from keras.models import Sequential\n",
    "from keras.layers import Dense\n",
    "model = Sequential()\n",
    "model.add(Dense(12, input_dim=9, activation='relu'))\n",
    "model.add(Dense(9, activation='relu'))\n",
    "model.add(Dense(1))\n",
    "model.compile(optimizer='adam', loss='mse')"
   ]
  },
  {
   "cell_type": "code",
   "execution_count": 22,
   "metadata": {
    "tags": []
   },
   "outputs": [
    {
     "output_type": "execute_result",
     "data": {
      "text/plain": [
       "<tensorflow.python.keras.callbacks.History at 0x1c9e0037b20>"
      ]
     },
     "metadata": {},
     "execution_count": 22
    }
   ],
   "source": [
    "model.fit(x, y, epochs=1000, batch_size=5, verbose=0)"
   ]
  },
  {
   "source": [
    "test neural network and output results"
   ],
   "cell_type": "markdown",
   "metadata": {}
  },
  {
   "cell_type": "code",
   "execution_count": 23,
   "metadata": {},
   "outputs": [
    {
     "output_type": "execute_result",
     "data": {
      "text/plain": [
       "[{'Nikola': 13.580929},\n",
       " {'James': 5.8010526},\n",
       " {'Giannis': 2.5981774},\n",
       " {'LeBron': 6.880462},\n",
       " {'Kawhi': 10.18983},\n",
       " {'Luka': 6.795382},\n",
       " {'Kyrie': 4.847699},\n",
       " {'Stephen': 15.182828},\n",
       " {'Joel': 10.487613},\n",
       " {'Paul': 1.000485},\n",
       " {'Chris': 5.844534},\n",
       " {'Jimmy': 3.89504},\n",
       " {'Khris': 0.92395806},\n",
       " {'Damian': 9.898093},\n",
       " {'Donovan': 4.9872627},\n",
       " {'Rudy': 1.7915626},\n",
       " {'Ben': 3.3042226},\n",
       " {'Zion': 5.5001483},\n",
       " {'Bam': 0.61633825},\n",
       " {'Mike': 1.5668957},\n",
       " {'Trae': 12.70378},\n",
       " {'Jamal': 5.0469413},\n",
       " {'Jayson': 8.009451},\n",
       " {'Devin': 7.2019787},\n",
       " {'Karl-Anthony': 11.70289},\n",
       " {'Bradley': 10.702204},\n",
       " {'Draymond': -2.0050983},\n",
       " {'Jrue': 0.29498574}]"
      ]
     },
     "metadata": {},
     "execution_count": 23
    }
   ],
   "source": [
    "data = np.loadtxt(\"OBPM.csv\", skiprows=1, delimiter=\",\", usecols=(2,3,4,5,6,7,8,9,10,11))\n",
    "x = data[:,0:9]\n",
    "labels.shape\n",
    "x.shape\n",
    "results = model.predict(x)\n",
    "output = []\n",
    "for i in range(0,results.shape[0]):\n",
    "    output.append({labels[i] : results[i][0]})\n",
    "output"
   ]
  },
  {
   "source": [
    "write results to .csv file\n",
    "(notebook has been rerun multiple times since original .csv was written to)"
   ],
   "cell_type": "markdown",
   "metadata": {}
  },
  {
   "cell_type": "code",
   "execution_count": 24,
   "metadata": {},
   "outputs": [],
   "source": [
    "import csv\n",
    "#with open('NNBPMOutput.csv', 'w', newline='') as file:\n",
    "#    writer = csv.writer(file)\n",
    "#    for i in range(0,len(output)):\n",
    "#        writer.writerow([labels[i], results[i][0]])"
   ]
  }
 ]
}