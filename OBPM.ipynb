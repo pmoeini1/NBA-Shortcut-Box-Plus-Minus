{
 "metadata": {
  "language_info": {
   "codemirror_mode": {
    "name": "ipython",
    "version": 3
   },
   "file_extension": ".py",
   "mimetype": "text/x-python",
   "name": "python",
   "nbconvert_exporter": "python",
   "pygments_lexer": "ipython3",
   "version": "3.8.5"
  },
  "orig_nbformat": 2,
  "kernelspec": {
   "name": "python385jvsc74a57bd02db524e06e9f5f4ffedc911c917cb75e12dbc923643829bf417064a77eb14d37",
   "display_name": "Python 3.8.5 64-bit"
  },
  "metadata": {
   "interpreter": {
    "hash": "2db524e06e9f5f4ffedc911c917cb75e12dbc923643829bf417064a77eb14d37"
   }
  }
 },
 "nbformat": 4,
 "nbformat_minor": 2,
 "cells": [
  {
   "cell_type": "code",
   "execution_count": 1,
   "metadata": {},
   "outputs": [],
   "source": [
    "import numpy as np"
   ]
  },
  {
   "source": [
    "using (estimated) scoring turnovers per 100, points per 100, assists per 100, points per true shooting attempt, \n",
    "and 5 types of lineup context stats from bball-index as features, and offensive on/off as y value"
   ],
   "cell_type": "markdown",
   "metadata": {}
  },
  {
   "cell_type": "code",
   "execution_count": 2,
   "metadata": {},
   "outputs": [],
   "source": [
    "data = np.loadtxt(\"OBPM.csv\", skiprows=1, delimiter=\",\", usecols=(2,3,4,5,6,7,8,9,10,11))\n",
    "labels = np.loadtxt(\"OBPM.csv\", skiprows=1, dtype=str, usecols=0)"
   ]
  },
  {
   "source": [
    "remove players with negative offensive on/off (all test data is from star players, any negatives are likely a result of noisy data)"
   ],
   "cell_type": "markdown",
   "metadata": {}
  },
  {
   "source": [
    "i=0\n",
    "while (i < data.shape[0]):\n",
    "    if (data[i,9]<0):\n",
    "        data = np.delete(data, i, axis=0)\n",
    "    i+=1"
   ],
   "cell_type": "code",
   "metadata": {},
   "execution_count": 3,
   "outputs": []
  },
  {
   "source": [
    "set up x and y matrices, and generate parameter matrix using normal equation"
   ],
   "cell_type": "markdown",
   "metadata": {}
  },
  {
   "cell_type": "code",
   "execution_count": 4,
   "metadata": {},
   "outputs": [],
   "source": [
    "x = data[:data.shape[0]-3,0:9]\n",
    "y = data[:data.shape[0]-3,9]\n",
    "theta = np.linalg.inv(x.transpose() @ x) @ x.transpose() @ y"
   ]
  },
  {
   "source": [
    "set all lineup context stats to have equal weighting\n",
    "reasoning for this is that all current weightings are ~0, so I assume the differences are a result of noisy data"
   ],
   "cell_type": "markdown",
   "metadata": {}
  },
  {
   "cell_type": "code",
   "execution_count": 5,
   "metadata": {},
   "outputs": [],
   "source": [
    "teammate_parameter = np.sum(theta[4:])/5\n",
    "\n",
    "for i in range(4,theta.shape[0]):\n",
    "    theta[i] = teammate_parameter"
   ]
  },
  {
   "source": [
    "bring back complete dataset, and set up x and y matrices"
   ],
   "cell_type": "markdown",
   "metadata": {}
  },
  {
   "cell_type": "code",
   "execution_count": 6,
   "metadata": {},
   "outputs": [],
   "source": [
    "data = np.loadtxt(\"OBPM.csv\", skiprows=1, delimiter=\",\", usecols=(2,3,4,5,6,7,8,9,10,11))\n",
    "x = data[:,0:9]\n",
    "y = data[:,9]"
   ]
  },
  {
   "source": [
    "predict box-plus-minus of players in dataset"
   ],
   "cell_type": "markdown",
   "metadata": {}
  },
  {
   "cell_type": "code",
   "execution_count": 7,
   "metadata": {},
   "outputs": [
    {
     "output_type": "execute_result",
     "data": {
      "text/plain": [
       "{'Nikola': 9.684098385561287,\n",
       " 'James': 9.457862839716245,\n",
       " 'Giannis': 10.119042399890942,\n",
       " 'LeBron': 11.537266484853186,\n",
       " 'Kawhi': 12.340060369053372,\n",
       " 'Luka': 12.079828025265034,\n",
       " 'Kyrie': 11.569052203708443,\n",
       " 'Stephen': 15.240197586043623,\n",
       " 'Joel': 7.716733150830752,\n",
       " 'Paul': 8.67974682371616,\n",
       " 'Chris': 7.061086794310482,\n",
       " 'Jimmy': 7.62460526763918,\n",
       " 'Khris': 5.788486900497886,\n",
       " 'Damian': 13.27337024138134,\n",
       " 'Donovan': 9.879720018564038,\n",
       " 'Rudy': 0.0683880999467778,\n",
       " 'Ben': 2.8059769045981326,\n",
       " 'Zion': 7.1082143904660695,\n",
       " 'Bam': 3.7604114568955307,\n",
       " 'Mike': 6.367803568871713,\n",
       " 'Trae': 10.712050512839715,\n",
       " 'Jamal': 5.3940597689987015,\n",
       " 'Jayson': 9.558771904902027,\n",
       " 'Devin': 7.800100444512079,\n",
       " 'Karl-Anthony': 10.980443513992626,\n",
       " 'Bradley': 15.012948522515831,\n",
       " 'Draymond': -1.0761837635643792,\n",
       " 'Jrue': 6.8975709850766505}"
      ]
     },
     "metadata": {},
     "execution_count": 7
    }
   ],
   "source": [
    "predictions = {}\n",
    "\n",
    "for i in range(0,data.shape[0]):\n",
    "    pred = x[i]@theta\n",
    "    predictions.update({labels[i] : pred})\n",
    "\n",
    "predictions"
   ]
  }
 ]
}