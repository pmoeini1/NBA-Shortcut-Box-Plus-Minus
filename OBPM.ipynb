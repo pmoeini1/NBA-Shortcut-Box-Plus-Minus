{
 "metadata": {
  "language_info": {
   "codemirror_mode": {
    "name": "ipython",
    "version": 3
   },
   "file_extension": ".py",
   "mimetype": "text/x-python",
   "name": "python",
   "nbconvert_exporter": "python",
   "pygments_lexer": "ipython3",
   "version": "3.8.5"
  },
  "orig_nbformat": 2,
  "kernelspec": {
   "name": "python385jvsc74a57bd02db524e06e9f5f4ffedc911c917cb75e12dbc923643829bf417064a77eb14d37",
   "display_name": "Python 3.8.5 64-bit"
  },
  "metadata": {
   "interpreter": {
    "hash": "2db524e06e9f5f4ffedc911c917cb75e12dbc923643829bf417064a77eb14d37"
   }
  }
 },
 "nbformat": 4,
 "nbformat_minor": 2,
 "cells": [
  {
   "cell_type": "code",
   "execution_count": 1,
   "metadata": {},
   "outputs": [],
   "source": [
    "import numpy as np"
   ]
  },
  {
   "source": [
    "using (estimated) scoring turnovers per 100, points per 100, assists per 100, points per true shooting attempt, \n",
    "and 5 types of lineup context stats from bball-index as features, and offensive on/off as y value"
   ],
   "cell_type": "markdown",
   "metadata": {}
  },
  {
   "cell_type": "code",
   "execution_count": 2,
   "metadata": {},
   "outputs": [],
   "source": [
    "data = np.loadtxt(\"OBPM.csv\", skiprows=1, delimiter=\",\", usecols=(2,3,4,5,6,7,8,9,10,11))\n",
    "labels = np.loadtxt(\"OBPM.csv\", skiprows=1, dtype=str, usecols=0)"
   ]
  },
  {
   "source": [
    "remove players with negative offensive on/off"
   ],
   "cell_type": "markdown",
   "metadata": {}
  },
  {
   "source": [
    "i=0\n",
    "while (i < data.shape[0]):\n",
    "    if (data[i,9]<0):\n",
    "        data = np.delete(data, i, axis=0)\n",
    "    i+=1"
   ],
   "cell_type": "code",
   "metadata": {},
   "execution_count": 3,
   "outputs": []
  },
  {
   "source": [
    "set up x and y matrices, and generate parameter matrix using normal equation"
   ],
   "cell_type": "markdown",
   "metadata": {}
  },
  {
   "cell_type": "code",
   "execution_count": 4,
   "metadata": {},
   "outputs": [],
   "source": [
    "# \n",
    "x = data[:,0:9]\n",
    "y = data[:,9]\n",
    "\n",
    "theta = np.linalg.inv(x.transpose() @ x) @ x.transpose() @ y"
   ]
  },
  {
   "source": [
    "set all lineup context stats to have equal weighting"
   ],
   "cell_type": "markdown",
   "metadata": {}
  },
  {
   "cell_type": "code",
   "execution_count": 5,
   "metadata": {},
   "outputs": [],
   "source": [
    "teammate_parameter = np.sum(theta[4:])/5\n",
    "\n",
    "for i in range(3,theta.shape[0]):\n",
    "    if i==3:\n",
    "        theta[i] -= teammate_parameter*5\n",
    "    else:\n",
    "        theta[i] = teammate_parameter"
   ]
  },
  {
   "source": [
    "bring back complete dataset, and set up x and y matrices"
   ],
   "cell_type": "markdown",
   "metadata": {}
  },
  {
   "cell_type": "code",
   "execution_count": 6,
   "metadata": {},
   "outputs": [],
   "source": [
    "data = np.loadtxt(\"OBPM.csv\", skiprows=1, delimiter=\",\", usecols=(2,3,4,5,6,7,8,9,10,11))\n",
    "x = data[:,0:9]\n",
    "y = data[:,9]"
   ]
  },
  {
   "source": [
    "predict box-plus-minus of players in dataset"
   ],
   "cell_type": "markdown",
   "metadata": {}
  },
  {
   "cell_type": "code",
   "execution_count": 7,
   "metadata": {},
   "outputs": [
    {
     "output_type": "execute_result",
     "data": {
      "text/plain": [
       "{'Nikola': 11.83177657337736,\n",
       " 'James': 13.188903069342603,\n",
       " 'Giannis': 10.101589924796244,\n",
       " 'LeBron': 12.625110403985236,\n",
       " 'Kawhi': 11.140053399760134,\n",
       " 'Luka': 13.178203801287712,\n",
       " 'Kyrie': 10.992947859275471,\n",
       " 'Stephen': 12.736187888256124,\n",
       " 'Joel': 6.488585655877918,\n",
       " 'Paul': 9.257079207200949,\n",
       " 'Chris': 12.023738155483844,\n",
       " 'Jimmy': 10.14886354321311,\n",
       " 'Khris': 7.9198587073383,\n",
       " 'Damian': 12.91282407214165,\n",
       " 'Donovan': 9.396053988268275,\n",
       " 'Rudy': 2.618484531009791,\n",
       " 'Ben': 8.01870390370684,\n",
       " 'Zion': 6.983436912405184,\n",
       " 'Bam': 7.120844677436207,\n",
       " 'Mike': 9.435688144019949,\n",
       " 'Trae': 13.27633869300848,\n",
       " 'Jamal': 7.0958411468606295,\n",
       " 'Jayson': 8.58389679281682,\n",
       " 'Devin': 7.781670662512783,\n",
       " 'Karl-Anthony': 9.973454192048166,\n",
       " 'Bradley': 11.477660680118023,\n",
       " 'Draymond': 7.79165184625729,\n",
       " 'Jrue': 9.319909243477905}"
      ]
     },
     "metadata": {},
     "execution_count": 7
    }
   ],
   "source": [
    "predictions = {}\n",
    "\n",
    "for i in range(0,data.shape[0]):\n",
    "    pred = x[i]@theta\n",
    "    predictions.update({labels[i] : pred})\n",
    "\n",
    "predictions"
   ]
  }
 ]
}